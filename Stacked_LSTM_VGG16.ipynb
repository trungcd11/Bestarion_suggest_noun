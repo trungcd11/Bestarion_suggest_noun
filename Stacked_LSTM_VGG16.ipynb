{
 "cells": [
  {
   "cell_type": "code",
   "execution_count": 1,
   "metadata": {
    "scrolled": true
   },
   "outputs": [
    {
     "name": "stderr",
     "output_type": "stream",
     "text": [
      "Using TensorFlow backend.\n"
     ]
    }
   ],
   "source": [
    "# Importing all the necessary libraries\n",
    "import keras\n",
    "import h5py\n",
    "from keras import optimizers\n",
    "from keras.models import load_model\n",
    "from keras.layers import Bidirectional\n",
    "from Multimodal_baseline_Functions import *\n",
    "from keras.layers.core import Reshape, Dropout\n",
    "from keras.utils.vis_utils import plot_model\n",
    "import os\n",
    "# import keras_metrics\n",
    "import matplotlib.pyplot as plt\n",
    "from keras.layers import Conv1D, MaxPooling1D, Flatten, GlobalAveragePooling3D\n",
    "from keras import regularizers\n",
    "import seaborn as sns\n",
    "import matplotlib.pyplot as plt   \n",
    "from sklearn.metrics import confusion_matrix\n",
    "from keras import regularizers  \n",
    "from keras.applications.inception_v3 import InceptionV3"
   ]
  },
  {
   "cell_type": "code",
   "execution_count": 2,
   "metadata": {},
   "outputs": [],
   "source": [
    "# Storing directory of glove embeddings\n",
    "GLOVE_DIR = \"E:\\MSc DA\\Sem 2\\Project\\Code and Docmentation\\glove.6B\"\n",
    "EMBEDDING_DIM = 50"
   ]
  },
  {
   "cell_type": "code",
   "execution_count": 3,
   "metadata": {},
   "outputs": [],
   "source": [
    "# Assigning class weights\n",
    "class_weight = {1: 1.4,\n",
    "                0: 1.}"
   ]
  },
  {
   "cell_type": "code",
   "execution_count": 4,
   "metadata": {},
   "outputs": [],
   "source": [
    "# Defining model with Adam optimizer\n",
    "adam = keras.optimizers.Adam(lr=0.001, beta_1=0.9, beta_2=0.999, epsilon=None, decay=0.0, amsgrad=False)\n",
    "sgd = optimizers.SGD(lr=0.001, decay=1e-6, momentum=0.9, nesterov=True)\n",
    "adadelta = optimizers.Adadelta(lr=1.0, rho=0.95, epsilon=None, decay=0.0)"
   ]
  },
  {
   "cell_type": "code",
   "execution_count": 5,
   "metadata": {},
   "outputs": [],
   "source": [
    "def Image_model(base_model):\n",
    "    # Freezing all the trainable layers\n",
    "    for layer in base_model.layers:\n",
    "        layer.trainable = False\n",
    "\n",
    "    # Creating output layer\n",
    "    x = base_model.output\n",
    "    # Adding pooling layer before the output\n",
    "    x = GlobalAveragePooling2D()(x)\n",
    "    return x"
   ]
  },
  {
   "cell_type": "code",
   "execution_count": 6,
   "metadata": {},
   "outputs": [],
   "source": [
    "def read_data(file_name):\n",
    "  #Opening file\n",
    "    with open(file_name,'r', encoding=\"utf8\") as f:\n",
    "      #Creating empty set and dictonary for vocab and word respectively\n",
    "        word_vocab = set() \n",
    "        word2vector = {}\n",
    "        #Iterating over each line of file\n",
    "        for line in f:\n",
    "            #Spliting lines\n",
    "            line_ = line.strip() \n",
    "            #Splitting words\n",
    "            words_Vec = line_.split()            \n",
    "            word_vocab.add(words_Vec[0])\n",
    "            word2vector[words_Vec[0]] = np.array(words_Vec[1:],dtype=float)\n",
    "    print(\"Total Words in DataSet:\",len(word_vocab))\n",
    "    return word_vocab,word2vector"
   ]
  },
  {
   "cell_type": "code",
   "execution_count": 7,
   "metadata": {},
   "outputs": [],
   "source": [
    "# Dividing data in test, train, validation\n",
    "training_DF, testing_DF, validation_DF = preprocess_text(Training_path,Validation_path, Testing_path)"
   ]
  },
  {
   "cell_type": "code",
   "execution_count": 8,
   "metadata": {},
   "outputs": [],
   "source": [
    "# Processing image and text for each set\n",
    "# Creating train, test and validation image path\n",
    "train_img_path = create_img_path(training_DF,'image_name', img_dir)\n",
    "test_img_path = create_img_path(testing_DF,'image_name', img_dir)\n",
    "val_img_path = create_img_path(validation_DF,'image_name', img_dir)\n",
    "\n",
    "# Processing the text\n",
    "training_DF['sentence'] = training_DF['sentence'].apply(clean_text)\n",
    "testing_DF['sentence'] = testing_DF['sentence'].apply(clean_text)\n",
    "validation_DF['sentence'] = validation_DF['sentence'].apply(clean_text)"
   ]
  },
  {
   "cell_type": "code",
   "execution_count": 9,
   "metadata": {},
   "outputs": [],
   "source": [
    "# Vectorising text\n",
    "# process the whole observation into single list\n",
    "train_text_list=list(training_DF['sentence'])\n",
    "test_text_list = list(testing_DF['sentence'])\n",
    "val_text_list = list(validation_DF['sentence'])\n",
    "\n",
    "# Creating vectors for train, test, validation\n",
    "tokenizer = Tokenizer(num_words=1000)\n",
    "tokenizer.fit_on_texts(train_text_list)\n",
    "sequences_train = tokenizer.texts_to_sequences(train_text_list)\n",
    "sequences_test = tokenizer.texts_to_sequences(test_text_list)\n",
    "sequences_val = tokenizer.texts_to_sequences(val_text_list)\n",
    "\n",
    "x_train = preprocessing.sequence.pad_sequences(sequences_train, maxlen=maxlen)\n",
    "x_test = preprocessing.sequence.pad_sequences(sequences_test, maxlen=maxlen)\n",
    "x_val = preprocessing.sequence.pad_sequences(sequences_val, maxlen=maxlen)\n",
    "\n",
    "# encoding all the labels \n",
    "y_test = testing_DF['label']\n",
    "y_train = training_DF['label']\n",
    "y_val = validation_DF['label']"
   ]
  },
  {
   "cell_type": "code",
   "execution_count": 10,
   "metadata": {},
   "outputs": [],
   "source": [
    "# Creating train, test, val, generator for meme\n",
    "img_txt_gen_train = img_text_generator(train_img_path, x_train, y_train, batch_size=32)\n",
    "img_txt_gen_test = img_text_generator(test_img_path, x_test, y_test, batch_size=1)\n",
    "img_txt_gen_val = img_text_generator(val_img_path, x_val, y_val, batch_size=1)\n",
    "\n",
    "# Creating train, test, val, generator for text\n",
    "txt_gen_train = text_generator(x_train, y_train, batch_size=32)\n",
    "txt_gen_test = text_generator(x_test, y_test, batch_size=1)\n",
    "txt_gen_val = text_generator(x_val, y_val, batch_size=1)\n",
    "\n",
    "# Creating train, test, val, generator for image\n",
    "img_gen_train = image_generator(train_img_path, training_DF, batch_size=32)\n",
    "img_gen_test = image_generator(test_img_path, testing_DF, batch_size=1)\n",
    "img_gen_val = image_generator(val_img_path, validation_DF, batch_size=1)"
   ]
  },
  {
   "cell_type": "code",
   "execution_count": 11,
   "metadata": {},
   "outputs": [
    {
     "name": "stdout",
     "output_type": "stream",
     "text": [
      "Total Words in DataSet: 400000\n"
     ]
    }
   ],
   "source": [
    "# Creating vocabulary with glove embeddings\n",
    "vocab, w2v = read_data(os.path.join(GLOVE_DIR, \"glove.6B.50d.txt\"))"
   ]
  },
  {
   "cell_type": "code",
   "execution_count": 12,
   "metadata": {},
   "outputs": [],
   "source": [
    "# Creating word index\n",
    "word_index = tokenizer.word_index\n",
    "num_tokens = len(word_index)"
   ]
  },
  {
   "cell_type": "code",
   "execution_count": 13,
   "metadata": {},
   "outputs": [],
   "source": [
    "#Creating embeddding weight matrix\n",
    "embedding_matrix = np.zeros((num_tokens + 1, EMBEDDING_DIM))\n",
    "\n",
    "for word, i in word_index.items():\n",
    "    embedding_vector = w2v.get(word)\n",
    "    if embedding_vector is not None:\n",
    "        embedding_matrix[i] = embedding_vector"
   ]
  },
  {
   "cell_type": "code",
   "execution_count": 14,
   "metadata": {},
   "outputs": [
    {
     "name": "stderr",
     "output_type": "stream",
     "text": [
      "WARNING: Logging before flag parsing goes to stderr.\n",
      "W0819 17:32:25.951053  6824 deprecation_wrapper.py:119] From f:\\anaconda\\envs\\exp_env\\lib\\site-packages\\keras\\backend\\tensorflow_backend.py:74: The name tf.get_default_graph is deprecated. Please use tf.compat.v1.get_default_graph instead.\n",
      "\n"
     ]
    }
   ],
   "source": [
    "#Creating embedded layer using embedded matrix as weight matrix\n",
    "embedding_layer = Embedding(num_tokens + 1, EMBEDDING_DIM, weights=[embedding_matrix], trainable = False)"
   ]
  },
  {
   "cell_type": "code",
   "execution_count": 15,
   "metadata": {},
   "outputs": [
    {
     "name": "stderr",
     "output_type": "stream",
     "text": [
      "W0819 17:32:26.034149  6824 deprecation_wrapper.py:119] From f:\\anaconda\\envs\\exp_env\\lib\\site-packages\\keras\\backend\\tensorflow_backend.py:517: The name tf.placeholder is deprecated. Please use tf.compat.v1.placeholder instead.\n",
      "\n",
      "W0819 17:32:26.036149  6824 deprecation_wrapper.py:119] From f:\\anaconda\\envs\\exp_env\\lib\\site-packages\\keras\\backend\\tensorflow_backend.py:4138: The name tf.random_uniform is deprecated. Please use tf.random.uniform instead.\n",
      "\n",
      "W0819 17:32:26.070172  6824 deprecation_wrapper.py:119] From f:\\anaconda\\envs\\exp_env\\lib\\site-packages\\keras\\backend\\tensorflow_backend.py:174: The name tf.get_default_session is deprecated. Please use tf.compat.v1.get_default_session instead.\n",
      "\n",
      "W0819 17:32:26.071173  6824 deprecation_wrapper.py:119] From f:\\anaconda\\envs\\exp_env\\lib\\site-packages\\keras\\backend\\tensorflow_backend.py:181: The name tf.ConfigProto is deprecated. Please use tf.compat.v1.ConfigProto instead.\n",
      "\n"
     ]
    }
   ],
   "source": [
    "# Defining input layer\n",
    "main_input = Input(shape=(maxlen,), dtype='int32', name='main_input')\n",
    "\n",
    "# Defining embedding layer which will encode the input sequence\n",
    "embedded_sequences = embedding_layer(main_input)\n",
    "\n",
    "# A LSTM will transform the vector sequence into a single vector,\n",
    "# containing information about the entire sequence\n",
    "lstm1 = LSTM(32, return_state=True)\n",
    "encoder_outputs,state_h,state_c = (lstm1)(embedded_sequences)\n",
    "states= [state_h,state_c]"
   ]
  },
  {
   "cell_type": "code",
   "execution_count": 25,
   "metadata": {},
   "outputs": [],
   "source": [
    "# Defining second LSTM\n",
    "lstm2=LSTM(32, return_sequences=True, return_state=True)\n",
    "# Adding initial state as state of  previous LSTM\n",
    "decoder_out,_,_=lstm2(embedded_sequences,initial_state=states)\n",
    "# Adding dense layer with 500 neurons\n",
    "decoder_dense = (Dense(500, activation='relu'))\n",
    "# LSTM output\n",
    "lstm_out=(decoder_out)\n",
    "# Flattening \n",
    "lstm_out = Flatten()(lstm_out)\n",
    "# Output of text model\n",
    "txt_out = Dense(1, activation='sigmoid')(lstm_out)"
   ]
  },
  {
   "cell_type": "code",
   "execution_count": 26,
   "metadata": {},
   "outputs": [],
   "source": [
    "# Defining text model\n",
    "txt_model = Model(inputs = [main_input], outputs=txt_out)"
   ]
  },
  {
   "cell_type": "code",
   "execution_count": 27,
   "metadata": {
    "scrolled": true
   },
   "outputs": [],
   "source": [
    "# compiling text model\n",
    "txt_model.compile(loss='binary_crossentropy', optimizer=adam, metrics = [\"accuracy\"])"
   ]
  },
  {
   "cell_type": "code",
   "execution_count": 28,
   "metadata": {},
   "outputs": [],
   "source": [
    "# Plotting the text model\n",
    "plot_model(txt_model, to_file='Stack_LSTM_txt_model.png', show_shapes=True, show_layer_names=True)"
   ]
  },
  {
   "cell_type": "code",
   "execution_count": 29,
   "metadata": {
    "scrolled": true
   },
   "outputs": [
    {
     "name": "stdout",
     "output_type": "stream",
     "text": [
      "Epoch 1/7\n",
      "2/2 [==============================] - 34s 17s/step - loss: 0.8170 - acc: 0.4531 - val_loss: 0.7047 - val_acc: 0.4094\n",
      "Epoch 2/7\n",
      "2/2 [==============================] - 30s 15s/step - loss: 0.8013 - acc: 0.4219 - val_loss: 0.6991 - val_acc: 0.4497\n",
      "Epoch 3/7\n",
      "2/2 [==============================] - 32s 16s/step - loss: 0.8181 - acc: 0.5469 - val_loss: 0.6950 - val_acc: 0.5101\n",
      "Epoch 4/7\n",
      "2/2 [==============================] - 32s 16s/step - loss: 0.8279 - acc: 0.5938 - val_loss: 0.7059 - val_acc: 0.3960\n",
      "Epoch 5/7\n",
      "2/2 [==============================] - 31s 15s/step - loss: 0.7838 - acc: 0.3594 - val_loss: 0.7017 - val_acc: 0.4094\n",
      "Epoch 6/7\n",
      "2/2 [==============================] - 33s 16s/step - loss: 0.7753 - acc: 0.3281 - val_loss: 0.6896 - val_acc: 0.5235\n",
      "Epoch 7/7\n",
      "2/2 [==============================] - 36s 18s/step - loss: 0.8199 - acc: 0.5781 - val_loss: 0.6786 - val_acc: 0.5906\n"
     ]
    },
    {
     "data": {
      "text/plain": [
       "<keras.callbacks.History at 0x19f14979b88>"
      ]
     },
     "execution_count": 29,
     "metadata": {},
     "output_type": "execute_result"
    }
   ],
   "source": [
    "# Training text model\n",
    "txt_model.fit_generator(txt_gen_train, epochs=7, validation_steps = 149, steps_per_epoch=2, validation_data=txt_gen_val, shuffle = False, class_weight=class_weight)"
   ]
  },
  {
   "cell_type": "code",
   "execution_count": 30,
   "metadata": {},
   "outputs": [
    {
     "name": "stderr",
     "output_type": "stream",
     "text": [
      "f:\\anaconda\\envs\\exp_env\\lib\\site-packages\\keras\\engine\\network.py:877: UserWarning: Layer lstm_4 was passed non-serializable keyword arguments: {'initial_state': [<tf.Tensor 'lstm_1/while/Exit_3:0' shape=(?, 32) dtype=float32>, <tf.Tensor 'lstm_1/while/Exit_4:0' shape=(?, 32) dtype=float32>]}. They will not be included in the serialized model (and thus will be missing at deserialization time).\n",
      "  '. They will not be included '\n"
     ]
    }
   ],
   "source": [
    "# Saving text model\n",
    "txt_model.save('Stack_LSTM_txt_model.h5')"
   ]
  },
  {
   "cell_type": "code",
   "execution_count": 31,
   "metadata": {},
   "outputs": [],
   "source": [
    "# Predicting labels of the test set\n",
    "y_pred_txt = (txt_model.predict_generator(txt_gen_test,steps = 149))\n",
    "y_pred_txt = np.round(list(itertools.chain(*y_pred_txt)))\n",
    "# Defining true labels\n",
    "y_true = y_test.values"
   ]
  },
  {
   "cell_type": "code",
   "execution_count": 32,
   "metadata": {},
   "outputs": [
    {
     "data": {
      "image/png": "[encoded data removed]",
      "text/plain": [
       "<Figure size 432x288 with 2 Axes>"
      ]
     },
     "metadata": {
      "needs_background": "light"
     },
     "output_type": "display_data"
    }
   ],
   "source": [
    "# Block that prints confusion matrix\n",
    "labels = [1,0]\n",
    "cm = confusion_matrix(y_true, y_pred_txt, labels)\n",
    "ax= plt.subplot()\n",
    "sns.heatmap(cm, annot=True, ax = ax); #annot=True to annotate cells\n",
    "\n",
    "# labels, title and ticks\n",
    "ax.set_xlabel('Predicted labels');ax.set_ylabel('True labels'); \n",
    "ax.set_title('Confusion Matrix'); \n",
    "ax.xaxis.set_ticklabels(['offensive', 'non-offensive']); ax.yaxis.set_ticklabels(['offensive', 'non-offensive']);"
   ]
  },
  {
   "cell_type": "code",
   "execution_count": 33,
   "metadata": {
    "scrolled": true
   },
   "outputs": [
    {
     "name": "stderr",
     "output_type": "stream",
     "text": [
      "W0819 17:43:39.104767  6824 deprecation_wrapper.py:119] From f:\\anaconda\\envs\\exp_env\\lib\\site-packages\\keras\\backend\\tensorflow_backend.py:3976: The name tf.nn.max_pool is deprecated. Please use tf.nn.max_pool2d instead.\n",
      "\n"
     ]
    }
   ],
   "source": [
    "# create base model with imagenet weights\n",
    "pre_trained_image_model = VGG16(weights='imagenet', include_top=False)"
   ]
  },
  {
   "cell_type": "code",
   "execution_count": 34,
   "metadata": {},
   "outputs": [],
   "source": [
    "# Building img_prediction layer using Image_model\n",
    "base_img = Image_model(pre_trained_image_model)\n",
    "img_prediction_layer = Dense(1, activation='sigmoid')(base_img)"
   ]
  },
  {
   "cell_type": "code",
   "execution_count": 35,
   "metadata": {},
   "outputs": [],
   "source": [
    "# Defining image model\n",
    "img_model = Model(inputs = [pre_trained_image_model.input], outputs=img_prediction_layer)"
   ]
  },
  {
   "cell_type": "code",
   "execution_count": 36,
   "metadata": {},
   "outputs": [],
   "source": [
    "# Compiling image model\n",
    "img_model.compile(loss='binary_crossentropy', optimizer=adam, metrics = [\"accuracy\"])"
   ]
  },
  {
   "cell_type": "code",
   "execution_count": 61,
   "metadata": {},
   "outputs": [],
   "source": [
    "# Plotting image model\n",
    "plot_model(img_model, to_file='VGG16_img_model.png', show_shapes=True, show_layer_names=True)"
   ]
  },
  {
   "cell_type": "code",
   "execution_count": 37,
   "metadata": {
    "scrolled": false
   },
   "outputs": [
    {
     "name": "stdout",
     "output_type": "stream",
     "text": [
      "Epoch 1/7\n",
      "2/2 [==============================] - 242s 121s/step - loss: 3.0185 - acc: 0.5625 - val_loss: 2.1314 - val_acc: 0.5436\n",
      "Epoch 2/7\n",
      "2/2 [==============================] - 234s 117s/step - loss: 2.0911 - acc: 0.5625 - val_loss: 2.2206 - val_acc: 0.5235\n",
      "Epoch 3/7\n",
      "2/2 [==============================] - 229s 115s/step - loss: 2.3114 - acc: 0.5312 - val_loss: 1.9818 - val_acc: 0.5369\n",
      "Epoch 4/7\n",
      "2/2 [==============================] - 242s 121s/step - loss: 2.8932 - acc: 0.5312 - val_loss: 2.1260 - val_acc: 0.4765\n",
      "Epoch 5/7\n",
      "2/2 [==============================] - 243s 122s/step - loss: 2.2387 - acc: 0.5156 - val_loss: 2.2748 - val_acc: 0.4161\n",
      "Epoch 6/7\n",
      "2/2 [==============================] - 237s 119s/step - loss: 3.0592 - acc: 0.4375 - val_loss: 2.3218 - val_acc: 0.3960\n",
      "Epoch 7/7\n",
      "2/2 [==============================] - 239s 120s/step - loss: 2.6047 - acc: 0.5156 - val_loss: 2.2551 - val_acc: 0.4295\n"
     ]
    },
    {
     "data": {
      "text/plain": [
       "<keras.callbacks.History at 0x19f3fa98748>"
      ]
     },
     "execution_count": 37,
     "metadata": {},
     "output_type": "execute_result"
    }
   ],
   "source": [
    "# Training image model\n",
    "img_model.fit_generator(img_gen_train, epochs=7, validation_steps = 149, steps_per_epoch=2, validation_data=img_gen_val, shuffle=False, class_weight=class_weight)"
   ]
  },
  {
   "cell_type": "code",
   "execution_count": 38,
   "metadata": {},
   "outputs": [],
   "source": [
    "# Saving image model\n",
    "img_model.save('VGG16_img_model.h5')"
   ]
  },
  {
   "cell_type": "code",
   "execution_count": 56,
   "metadata": {},
   "outputs": [],
   "source": [
    "# Predicting labels using image model\n",
    "y_pred_img = (img_model.predict_generator(img_gen_test,steps = 149))\n",
    "y_pred_img = np.round(list(itertools.chain(*y_pred_img)))\n",
    "y_true = y_test.values"
   ]
  },
  {
   "cell_type": "code",
   "execution_count": 57,
   "metadata": {},
   "outputs": [
    {
     "data": {
      "image/png": "[encoded data removed]",
      "text/plain": [
       "<Figure size 432x288 with 2 Axes>"
      ]
     },
     "metadata": {
      "needs_background": "light"
     },
     "output_type": "display_data"
    }
   ],
   "source": [
    "# Confusion matrix for image classifier\n",
    "labels = [1,0]\n",
    "cm = confusion_matrix(y_true, y_pred_img, labels)\n",
    "ax= plt.subplot()\n",
    "sns.heatmap(cm, annot=True, ax = ax); #annot=True to annotate cells\n",
    "\n",
    "# labels, title and ticks\n",
    "ax.set_xlabel('Predicted labels');ax.set_ylabel('True labels'); \n",
    "ax.set_title('Confusion Matrix'); \n",
    "ax.xaxis.set_ticklabels(['offensive', 'non-offensive']); ax.yaxis.set_ticklabels(['offensive', 'non-offensive']);"
   ]
  },
  {
   "cell_type": "code",
   "execution_count": 41,
   "metadata": {},
   "outputs": [],
   "source": [
    "txt_model.compile(loss='binary_crossentropy', optimizer=adam, metrics = [\"accuracy\"])\n",
    "img_model.compile(loss='binary_crossentropy', optimizer=adam, metrics = [\"accuracy\"])"
   ]
  },
  {
   "cell_type": "code",
   "execution_count": 42,
   "metadata": {},
   "outputs": [],
   "source": [
    "# Concatenating output of both classifiers\n",
    "con_layer = keras.layers.concatenate([txt_model.output, img_model.output])\n",
    "out = Dense(1,activation='sigmoid')(con_layer)"
   ]
  },
  {
   "cell_type": "code",
   "execution_count": 43,
   "metadata": {},
   "outputs": [],
   "source": [
    "# Defining model input and output\n",
    "com_model = Model(inputs = [img_model.input, txt_model.input], outputs=out)"
   ]
  },
  {
   "cell_type": "code",
   "execution_count": 44,
   "metadata": {},
   "outputs": [],
   "source": [
    "# Using Stochastic gradient descent with optimizer\n",
    "sgd = optimizers.SGD(lr=0.001, decay=1e-6, momentum=0.9, nesterov=True)\n",
    "com_model.compile(loss='binary_crossentropy', optimizer=adam, metrics = [\"accuracy\"])"
   ]
  },
  {
   "cell_type": "code",
   "execution_count": 63,
   "metadata": {},
   "outputs": [],
   "source": [
    "# PlotTing combined model\n",
    "plot_model(com_model, to_file='Stack_LSTM_VGG_mul_model.png', show_shapes=True, show_layer_names=True)"
   ]
  },
  {
   "cell_type": "code",
   "execution_count": 45,
   "metadata": {
    "scrolled": true
   },
   "outputs": [
    {
     "name": "stdout",
     "output_type": "stream",
     "text": [
      "Epoch 1/7\n",
      "2/2 [==============================] - 256s 128s/step - loss: 0.8005 - acc: 0.6406 - val_loss: 0.6508 - val_acc: 0.6711\n",
      "Epoch 2/7\n",
      "2/2 [==============================] - 255s 127s/step - loss: 0.8787 - acc: 0.5781 - val_loss: 0.6979 - val_acc: 0.5839\n",
      "Epoch 3/7\n",
      "2/2 [==============================] - 244s 122s/step - loss: 0.8620 - acc: 0.5938 - val_loss: 0.6811 - val_acc: 0.5369\n",
      "Epoch 4/7\n",
      "2/2 [==============================] - 242s 121s/step - loss: 0.9243 - acc: 0.5000 - val_loss: 0.6651 - val_acc: 0.5906\n",
      "Epoch 5/7\n",
      "2/2 [==============================] - 243s 121s/step - loss: 0.8034 - acc: 0.5469 - val_loss: 0.7102 - val_acc: 0.4631\n",
      "Epoch 6/7\n",
      "2/2 [==============================] - 246s 123s/step - loss: 0.7704 - acc: 0.4062 - val_loss: 0.7096 - val_acc: 0.4698\n",
      "Epoch 7/7\n",
      "2/2 [==============================] - 240s 120s/step - loss: 0.8164 - acc: 0.4844 - val_loss: 0.6786 - val_acc: 0.4564\n"
     ]
    },
    {
     "data": {
      "text/plain": [
       "<keras.callbacks.History at 0x19f451366c8>"
      ]
     },
     "execution_count": 45,
     "metadata": {},
     "output_type": "execute_result"
    }
   ],
   "source": [
    "# Training model\n",
    "com_model.fit_generator(img_txt_gen_train, epochs=7, validation_steps = 149, steps_per_epoch=2, validation_data=img_txt_gen_val, shuffle=False, class_weight=class_weight)"
   ]
  },
  {
   "cell_type": "code",
   "execution_count": 46,
   "metadata": {},
   "outputs": [
    {
     "name": "stderr",
     "output_type": "stream",
     "text": [
      "f:\\anaconda\\envs\\exp_env\\lib\\site-packages\\keras\\engine\\network.py:877: UserWarning: Layer lstm_4 was passed non-serializable keyword arguments: {'initial_state': [<tf.Tensor 'lstm_1/while/Exit_3:0' shape=(?, 32) dtype=float32>, <tf.Tensor 'lstm_1/while/Exit_4:0' shape=(?, 32) dtype=float32>]}. They will not be included in the serialized model (and thus will be missing at deserialization time).\n",
      "  '. They will not be included '\n"
     ]
    }
   ],
   "source": [
    "# Saving combined model\n",
    "com_model.save('Stack_LSTM_VGG_mul_model.h5')"
   ]
  },
  {
   "cell_type": "code",
   "execution_count": 47,
   "metadata": {},
   "outputs": [],
   "source": [
    "y_pred_com = (com_model.predict_generator(img_txt_gen_test,steps = 149))\n",
    "y_pred_com = np.round(list(itertools.chain(*y_pred_com)))"
   ]
  },
  {
   "cell_type": "code",
   "execution_count": 48,
   "metadata": {},
   "outputs": [
    {
     "data": {
      "image/png": "[encoded data removed]",
      "text/plain": [
       "<Figure size 432x288 with 2 Axes>"
      ]
     },
     "metadata": {
      "needs_background": "light"
     },
     "output_type": "display_data"
    }
   ],
   "source": [
    "labels = [1,0]\n",
    "cm = confusion_matrix(y_true, y_pred_com, labels)\n",
    "ax= plt.subplot()\n",
    "sns.heatmap(cm, annot=True, ax = ax); #annot=True to annotate cells\n",
    "\n",
    "# labels, title and ticks\n",
    "ax.set_xlabel('Predicted labels');ax.set_ylabel('True labels'); \n",
    "ax.set_title('Confusion Matrix'); \n",
    "ax.xaxis.set_ticklabels(['offensive', 'non-offensive']); ax.yaxis.set_ticklabels(['offensive', 'non-offensive']);"
   ]
  },
  {
   "cell_type": "code",
   "execution_count": 49,
   "metadata": {
    "scrolled": true
   },
   "outputs": [
    {
     "data": {
      "image/png": "[encoded data removed]",
      "text/plain": [
       "<Figure size 432x288 with 1 Axes>"
      ]
     },
     "metadata": {
      "needs_background": "light"
     },
     "output_type": "display_data"
    }
   ],
   "source": [
    "# Plotting training accuaracy \n",
    "plt.plot(com_model.history.epoch, com_model.history.history['acc'])\n",
    "plt.plot(txt_model.history.epoch, txt_model.history.history['acc'])\n",
    "plt.gca().legend(('meme model acc', 'image model acc', 'text model acc'))\n",
    "plt.xlabel('epoch')\n",
    "plt.ylabel('training accuracy')\n",
    "plt.show()"
   ]
  },
  {
   "cell_type": "code",
   "execution_count": 50,
   "metadata": {
    "scrolled": false
   },
   "outputs": [
    {
     "data": {
      "image/png": "[encoded data removed]",
      "text/plain": [
       "<Figure size 432x288 with 1 Axes>"
      ]
     },
     "metadata": {
      "needs_background": "light"
     },
     "output_type": "display_data"
    }
   ],
   "source": [
    "# Plotting validation accuracy\n",
    "plt.plot(com_model.history.epoch, com_model.history.history['val_acc'])\n",
    "plt.plot(txt_model.history.epoch, txt_model.history.history['val_acc'])\n",
    "plt.gca().legend(('meme model validation acc', 'image model validation acc', 'text model validation acc'))\n",
    "plt.xlabel('epoch')\n",
    "plt.ylabel('validaion accuracy')\n",
    "plt.show()"
   ]
  },
  {
   "cell_type": "code",
   "execution_count": 51,
   "metadata": {},
   "outputs": [
    {
     "data": {
      "text/plain": [
       "[0.6812928438186645, 0.6]"
      ]
     },
     "execution_count": 51,
     "metadata": {},
     "output_type": "execute_result"
    }
   ],
   "source": [
    "# Evaluating model by calculating loss and accuracy respectively\n",
    "# for combined model\n",
    "com_model.evaluate_generator(img_txt_gen_test, steps=5)"
   ]
  },
  {
   "cell_type": "code",
   "execution_count": 52,
   "metadata": {},
   "outputs": [
    {
     "data": {
      "text/plain": [
       "[2.3537175674457105, 0.6]"
      ]
     },
     "execution_count": 52,
     "metadata": {},
     "output_type": "execute_result"
    }
   ],
   "source": [
    "# loss and accuracy for text model\n",
    "txt_model.evaluate_generator(txt_gen_test, steps=5)"
   ]
  },
  {
   "cell_type": "code",
   "execution_count": 60,
   "metadata": {},
   "outputs": [
    {
     "data": {
      "text/plain": [
       "[4.989390548031952, 0.4]"
      ]
     },
     "execution_count": 60,
     "metadata": {},
     "output_type": "execute_result"
    }
   ],
   "source": [
    "# Loss and accuracy for image model\n",
    "img_model.evaluate_generator(img_gen_test, steps=5)"
   ]
  },
  {
   "cell_type": "code",
   "execution_count": 53,
   "metadata": {},
   "outputs": [],
   "source": [
    "from sklearn.metrics import precision_recall_fscore_support"
   ]
  },
  {
   "cell_type": "code",
   "execution_count": 54,
   "metadata": {},
   "outputs": [
    {
     "data": {
      "text/plain": [
       "(array([0.60465116, 0.3968254 ]),\n",
       " array([0.57777778, 0.42372881]),\n",
       " array([0.59090909, 0.40983607]),\n",
       " array([90, 59], dtype=int64))"
      ]
     },
     "execution_count": 54,
     "metadata": {},
     "output_type": "execute_result"
    }
   ],
   "source": [
    "# for txt\n",
    "precision_recall_fscore_support(y_true, y_pred_txt, beta=1.0, labels=None, pos_label=1, average=None)"
   ]
  },
  {
   "cell_type": "code",
   "execution_count": 58,
   "metadata": {},
   "outputs": [
    {
     "data": {
      "text/plain": [
       "(array([0.608     , 0.41666667]),\n",
       " array([0.84444444, 0.16949153]),\n",
       " array([0.70697674, 0.24096386]),\n",
       " array([90, 59], dtype=int64))"
      ]
     },
     "execution_count": 58,
     "metadata": {},
     "output_type": "execute_result"
    }
   ],
   "source": [
    "# for image\n",
    "precision_recall_fscore_support(y_true, y_pred_img, beta=1.0, labels=None, pos_label=1, average=None)"
   ]
  },
  {
   "cell_type": "code",
   "execution_count": 59,
   "metadata": {},
   "outputs": [
    {
     "data": {
      "text/plain": [
       "(array([0.62264151, 0.40625   ]),\n",
       " array([0.36666667, 0.66101695]),\n",
       " array([0.46153846, 0.50322581]),\n",
       " array([90, 59], dtype=int64))"
      ]
     },
     "execution_count": 59,
     "metadata": {},
     "output_type": "execute_result"
    }
   ],
   "source": [
    "# com model\n",
    "precision_recall_fscore_support(y_true, y_pred_com, beta=1.0, labels=None, pos_label=1, average=None)"
   ]
  }
 ],
 "metadata": {
  "kernelspec": {
   "display_name": "Python 3",
   "language": "python",
   "name": "python3"
  },
  "language_info": {
   "codemirror_mode": {
    "name": "ipython",
    "version": 3
   },
   "file_extension": ".py",
   "mimetype": "text/x-python",
   "name": "python",
   "nbconvert_exporter": "python",
   "pygments_lexer": "ipython3",
   "version": "3.7.4"
  }
 },
 "nbformat": 4,
 "nbformat_minor": 2
}
